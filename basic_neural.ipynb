{
  "nbformat": 4,
  "nbformat_minor": 0,
  "metadata": {
    "colab": {
      "name": "Untitled0.ipynb",
      "provenance": [],
      "authorship_tag": "ABX9TyPsdKChHlL8KJPQWg2mxYAe",
      "include_colab_link": true
    },
    "kernelspec": {
      "name": "python3",
      "display_name": "Python 3"
    }
  },
  "cells": [
    {
      "cell_type": "markdown",
      "metadata": {
        "id": "view-in-github",
        "colab_type": "text"
      },
      "source": [
        "<a href=\"https://colab.research.google.com/github/luisantoniococa/STEM_day_presentation/blob/master/basic_neural.ipynb\" target=\"_parent\"><img src=\"https://colab.research.google.com/assets/colab-badge.svg\" alt=\"Open In Colab\"/></a>"
      ]
    },
    {
      "cell_type": "code",
      "metadata": {
        "id": "SudLLYyk2yqS",
        "colab_type": "code",
        "colab": {
          "base_uri": "https://localhost:8080/",
          "height": 322
        },
        "outputId": "da39bd23-7d74-4436-8083-6985624f0b31"
      },
      "source": [
        "import numpy as np\n",
        "import matplotlib.pyplot as plt\n",
        "%matplotlib inline\n",
        "!pip install tensorflow==0.12.1\n",
        "import tensorflow as tf\n",
        "print(tf.__version__)\n",
        "learn = tf.contrib.learn\n",
        "tf.logging.set_verbosity(tf.logging.ERROR)"
      ],
      "execution_count": 1,
      "outputs": [
        {
          "output_type": "stream",
          "text": [
            "Requirement already satisfied: tensorflow==0.12.1 in /usr/local/lib/python3.6/dist-packages (0.12.1)\n",
            "Requirement already satisfied: numpy>=1.11.0 in /usr/local/lib/python3.6/dist-packages (from tensorflow==0.12.1) (1.17.5)\n",
            "Requirement already satisfied: wheel>=0.26 in /usr/local/lib/python3.6/dist-packages (from tensorflow==0.12.1) (0.34.2)\n",
            "Requirement already satisfied: protobuf>=3.1.0 in /usr/local/lib/python3.6/dist-packages (from tensorflow==0.12.1) (3.10.0)\n",
            "Requirement already satisfied: six>=1.10.0 in /usr/local/lib/python3.6/dist-packages (from tensorflow==0.12.1) (1.12.0)\n",
            "Requirement already satisfied: setuptools in /usr/local/lib/python3.6/dist-packages (from protobuf>=3.1.0->tensorflow==0.12.1) (45.1.0)\n"
          ],
          "name": "stdout"
        },
        {
          "output_type": "stream",
          "text": [
            "/usr/local/lib/python3.6/dist-packages/tensorflow/python/framework/dtypes.py:463: FutureWarning: Passing (type, 1) or '1type' as a synonym of type is deprecated; in a future version of numpy, it will be understood as (type, (1,)) / '(1,)type'.\n",
            "  _np_qint8 = np.dtype([(\"qint8\", np.int8, 1)])\n",
            "/usr/local/lib/python3.6/dist-packages/tensorflow/python/framework/dtypes.py:464: FutureWarning: Passing (type, 1) or '1type' as a synonym of type is deprecated; in a future version of numpy, it will be understood as (type, (1,)) / '(1,)type'.\n",
            "  _np_quint8 = np.dtype([(\"quint8\", np.uint8, 1)])\n",
            "/usr/local/lib/python3.6/dist-packages/tensorflow/python/framework/dtypes.py:465: FutureWarning: Passing (type, 1) or '1type' as a synonym of type is deprecated; in a future version of numpy, it will be understood as (type, (1,)) / '(1,)type'.\n",
            "  _np_qint16 = np.dtype([(\"qint16\", np.int16, 1)])\n",
            "/usr/local/lib/python3.6/dist-packages/tensorflow/python/framework/dtypes.py:466: FutureWarning: Passing (type, 1) or '1type' as a synonym of type is deprecated; in a future version of numpy, it will be understood as (type, (1,)) / '(1,)type'.\n",
            "  _np_quint16 = np.dtype([(\"quint16\", np.uint16, 1)])\n",
            "/usr/local/lib/python3.6/dist-packages/tensorflow/python/framework/dtypes.py:467: FutureWarning: Passing (type, 1) or '1type' as a synonym of type is deprecated; in a future version of numpy, it will be understood as (type, (1,)) / '(1,)type'.\n",
            "  _np_qint32 = np.dtype([(\"qint32\", np.int32, 1)])\n"
          ],
          "name": "stderr"
        },
        {
          "output_type": "stream",
          "text": [
            "0.12.1\n"
          ],
          "name": "stdout"
        }
      ]
    },
    {
      "cell_type": "code",
      "metadata": {
        "id": "gjho5xop4ViT",
        "colab_type": "code",
        "colab": {
          "base_uri": "https://localhost:8080/",
          "height": 84
        },
        "outputId": "b67d5f9c-a970-48fc-d739-2814ea2540bd"
      },
      "source": [
        "mnist = learn.datasets.load_dataset('mnist')\n",
        "data = mnist.train.images\n",
        "labels = np.asarray(mnist.train.labels, dtype=np.int32)\n",
        "test_data = mnist.test.images\n",
        "test_labels = np.asarray(mnist.test.labels, dtype=np.int32)\n"
      ],
      "execution_count": 2,
      "outputs": [
        {
          "output_type": "stream",
          "text": [
            "Extracting MNIST-data/train-images-idx3-ubyte.gz\n",
            "Extracting MNIST-data/train-labels-idx1-ubyte.gz\n",
            "Extracting MNIST-data/t10k-images-idx3-ubyte.gz\n",
            "Extracting MNIST-data/t10k-labels-idx1-ubyte.gz\n"
          ],
          "name": "stdout"
        }
      ]
    },
    {
      "cell_type": "code",
      "metadata": {
        "id": "YZ8PaquQ4YEI",
        "colab_type": "code",
        "colab": {}
      },
      "source": [
        "max_examples = 10000\n",
        "data = data[:max_examples]\n",
        "labels = labels[:max_examples]"
      ],
      "execution_count": 0,
      "outputs": []
    },
    {
      "cell_type": "code",
      "metadata": {
        "id": "7M3CeWjr4hWC",
        "colab_type": "code",
        "colab": {}
      },
      "source": [
        "def display(i):\n",
        "    img = test_data[i]\n",
        "    plt.title('Example %d. Label: %d' % (i, test_labels[i]))\n",
        "    plt.imshow(img.reshape((28,28)), cmap=plt.cm.gray_r)"
      ],
      "execution_count": 0,
      "outputs": []
    },
    {
      "cell_type": "code",
      "metadata": {
        "id": "vnMdWQRn4koe",
        "colab_type": "code",
        "colab": {
          "base_uri": "https://localhost:8080/",
          "height": 281
        },
        "outputId": "168f89e4-70af-42e7-e245-487afd8785d9"
      },
      "source": [
        "\n",
        "display(0)"
      ],
      "execution_count": 5,
      "outputs": [
        {
          "output_type": "display_data",
          "data": {
            "image/png": "[encoded data removed]",
            "text/plain": [
              "<Figure size 432x288 with 1 Axes>"
            ]
          },
          "metadata": {
            "tags": []
          }
        }
      ]
    },
    {
      "cell_type": "code",
      "metadata": {
        "id": "5YJHLX3A47Xp",
        "colab_type": "code",
        "colab": {
          "base_uri": "https://localhost:8080/",
          "height": 281
        },
        "outputId": "e4475bca-c708-47c2-88c2-436b432144b6"
      },
      "source": [
        "display(1)"
      ],
      "execution_count": 6,
      "outputs": [
        {
          "output_type": "display_data",
          "data": {
            "image/png": "[encoded data removed]",
            "text/plain": [
              "<Figure size 432x288 with 1 Axes>"
            ]
          },
          "metadata": {
            "tags": []
          }
        }
      ]
    },
    {
      "cell_type": "code",
      "metadata": {
        "id": "IualjkQV50Kq",
        "colab_type": "code",
        "colab": {
          "base_uri": "https://localhost:8080/",
          "height": 281
        },
        "outputId": "e88445a8-dc0e-4dfd-c82f-bdf1426171c2"
      },
      "source": [
        "display(8)"
      ],
      "execution_count": 7,
      "outputs": [
        {
          "output_type": "display_data",
          "data": {
            "image/png": "[encoded data removed]",
            "text/plain": [
              "<Figure size 432x288 with 1 Axes>"
            ]
          },
          "metadata": {
            "tags": []
          }
        }
      ]
    },
    {
      "cell_type": "code",
      "metadata": {
        "id": "UKYRMA2b6KMU",
        "colab_type": "code",
        "colab": {
          "base_uri": "https://localhost:8080/",
          "height": 34
        },
        "outputId": "ab247014-e8c2-4849-c91a-2e0b9cf626d2"
      },
      "source": [
        "print (len(data[0]))"
      ],
      "execution_count": 8,
      "outputs": [
        {
          "output_type": "stream",
          "text": [
            "784\n"
          ],
          "name": "stdout"
        }
      ]
    },
    {
      "cell_type": "code",
      "metadata": {
        "id": "8HSID6Jt7U6t",
        "colab_type": "code",
        "colab": {
          "base_uri": "https://localhost:8080/",
          "height": 34
        },
        "outputId": "07bdf178-348c-4972-cddf-b165f689c15e"
      },
      "source": [
        "\n",
        "feature_columns = learn.infer_real_valued_columns_from_input(data)\n",
        "classifier = learn.LinearClassifier(feature_columns=feature_columns, n_classes=10)\n",
        "classifier.fit(data, labels, batch_size=100, steps=1000)"
      ],
      "execution_count": 9,
      "outputs": [
        {
          "output_type": "execute_result",
          "data": {
            "text/plain": [
              "<tensorflow.contrib.learn.python.learn.estimators.linear.LinearClassifier at 0x7fe6994a96a0>"
            ]
          },
          "metadata": {
            "tags": []
          },
          "execution_count": 9
        }
      ]
    },
    {
      "cell_type": "code",
      "metadata": {
        "id": "m-J_KuxE7ysn",
        "colab_type": "code",
        "colab": {
          "base_uri": "https://localhost:8080/",
          "height": 34
        },
        "outputId": "fe20e19f-ce7e-4c3e-df67-1076d819224c"
      },
      "source": [
        "classifier.evaluate(test_data, test_labels)\n",
        "print (classifier.evaluate(test_data, test_labels)[\"accuracy\"])"
      ],
      "execution_count": 10,
      "outputs": [
        {
          "output_type": "stream",
          "text": [
            "0.9137\n"
          ],
          "name": "stdout"
        }
      ]
    },
    {
      "cell_type": "code",
      "metadata": {
        "id": "yNoxSwMZ705o",
        "colab_type": "code",
        "colab": {
          "base_uri": "https://localhost:8080/",
          "height": 331
        },
        "outputId": "e5b956be-72d8-487b-cc5a-e118442feecb"
      },
      "source": [
        "\n",
        "\n",
        "# here's one it gets right\n",
        "print (f\"Predicted {classifier.predict(test_data[0])}, Label: {test_labels[0]}\")\n",
        "display(0)\n",
        "# prediction = classifier.predict(test_data[0])\n",
        "new_samples = np.array([test_data[0]], dtype=float)\n",
        "\n",
        "y = list(classifier.predict(new_samples, as_iterable=True))\n",
        "print('Predictions: {}'.format(str(y)))\n",
        "\n",
        "print (\"Predicted %s, Label: %d\" % (str(y), test_labels[0]))\n"
      ],
      "execution_count": 18,
      "outputs": [
        {
          "output_type": "stream",
          "text": [
            "Predicted <generator object _as_iterable at 0x7fe6961f2150>, Label: 7\n",
            "Predictions: [7]\n",
            "Predicted [7], Label: 7\n"
          ],
          "name": "stdout"
        },
        {
          "output_type": "display_data",
          "data": {
            "image/png": "[encoded data removed]",
            "text/plain": [
              "<Figure size 432x288 with 1 Axes>"
            ]
          },
          "metadata": {
            "tags": []
          }
        }
      ]
    },
    {
      "cell_type": "code",
      "metadata": {
        "id": "zWAvSRR575Mv",
        "colab_type": "code",
        "colab": {
          "base_uri": "https://localhost:8080/",
          "height": 349
        },
        "outputId": "aa885ec7-0642-40e4-bb5f-7765302c99e2"
      },
      "source": [
        "from PIL import Image\n",
        "\n",
        "im = np.array(Image.open('3.png').convert(\"L\"), dtype=float)\n",
        "# im = im[:,:,0]\n",
        "\n",
        "print(im.dtype)\n",
        "# uint8\n",
        "\n",
        "print(im.ndim)\n",
        "# 3\n",
        "\n",
        "print(im.shape)\n",
        "# (512, 512, 3)\n",
        "plt.imshow(im.reshape((28,28)), cmap=plt.cm.gray_r)\n",
        "\n",
        "im = im.flatten().reshape(1,784)\n",
        "im = ((im/255)-1)*-1\n",
        "im.shape\n",
        "\n",
        "\n",
        "prediction2 = list(classifier.predict(im, as_iterable=True))\n",
        "print('Predictions: {}'.format(str(prediction2)))\n",
        "\n",
        "print (f\"Predicted {str(prediction2)}\")\n",
        "# print(((im/255)-1)*-1)"
      ],
      "execution_count": 61,
      "outputs": [
        {
          "output_type": "stream",
          "text": [
            "float64\n",
            "2\n",
            "(28, 28)\n",
            "Predictions: [3]\n",
            "Predicted [3]\n"
          ],
          "name": "stdout"
        },
        {
          "output_type": "display_data",
          "data": {
            "image/png": "[encoded data removed]",
            "text/plain": [
              "<Figure size 432x288 with 1 Axes>"
            ]
          },
          "metadata": {
            "tags": []
          }
        }
      ]
    },
    {
      "cell_type": "code",
      "metadata": {
        "id": "e4znJvpJ7-4F",
        "colab_type": "code",
        "colab": {
          "base_uri": "https://localhost:8080/",
          "height": 349
        },
        "outputId": "d5eb9bb8-a930-4d50-aaea-e75098c854ee"
      },
      "source": [
        "im2 = np.array(Image.open('0.png').convert(\"L\"), dtype=float)\n",
        "# im2 = im2[:,:,1]\n",
        "\n",
        "print(im2.dtype)\n",
        "# uint8\n",
        "\n",
        "print(im2.ndim)\n",
        "# 3\n",
        "\n",
        "print(im2.shape)\n",
        "# (512, 512, 3)\n",
        "plt.imshow(im2.reshape((28,28)), cmap=plt.cm.gray_r)\n",
        "\n",
        "im2 = im2.flatten().reshape(1,784)\n",
        "im2 = ((im2/255)-1)*-1\n",
        "im2.shape\n",
        "\n",
        "\n",
        "prediction3 = list(classifier.predict(im2, as_iterable=True))\n",
        "print('Predictions: {}'.format(str(prediction3)))\n",
        "\n",
        "print (f\"Predicted {str(prediction3)}\")"
      ],
      "execution_count": 63,
      "outputs": [
        {
          "output_type": "stream",
          "text": [
            "float64\n",
            "2\n",
            "(28, 28)\n",
            "Predictions: [2]\n",
            "Predicted [2]\n"
          ],
          "name": "stdout"
        },
        {
          "output_type": "display_data",
          "data": {
            "image/png": "[encoded data removed]",
            "text/plain": [
              "<Figure size 432x288 with 1 Axes>"
            ]
          },
          "metadata": {
            "tags": []
          }
        }
      ]
    },
    {
      "cell_type": "code",
      "metadata": {
        "id": "9K51sw928EPk",
        "colab_type": "code",
        "colab": {
          "base_uri": "https://localhost:8080/",
          "height": 298
        },
        "outputId": "05b9fb7c-650e-449f-f0ef-365b7dea90a8"
      },
      "source": [
        "hope_is_8 = np.array(Image.open('8.png').convert(\"L\"), dtype=float)\n",
        "\n",
        "# print(im.dtype)\n",
        "# # uint8\n",
        "\n",
        "# print(im.ndim)\n",
        "# # 3\n",
        "\n",
        "# print(im.shape)\n",
        "# # (512, 512, 3)\n",
        "plt.imshow(hope_is_8.reshape((28,28)), cmap=plt.cm.gray_r)\n",
        "\n",
        "hope_is_8 = hope_is_8.flatten().reshape(1,784)\n",
        "hope_is_8 = ((hope_is_8/255)-1)*-1\n",
        "hope_is_8.shape\n",
        "\n",
        "\n",
        "is_it_8 = list(classifier.predict(hope_is_8, as_iterable=True))\n",
        "print('Predictions: {}'.format(str(is_it_8)))\n",
        "\n",
        "print (f\"Predicted {str(is_it_8)}\")"
      ],
      "execution_count": 64,
      "outputs": [
        {
          "output_type": "stream",
          "text": [
            "Predictions: [8]\n",
            "Predicted [8]\n"
          ],
          "name": "stdout"
        },
        {
          "output_type": "display_data",
          "data": {
            "image/png": "[encoded data removed]",
            "text/plain": [
              "<Figure size 432x288 with 1 Axes>"
            ]
          },
          "metadata": {
            "tags": []
          }
        }
      ]
    }
  ]
}